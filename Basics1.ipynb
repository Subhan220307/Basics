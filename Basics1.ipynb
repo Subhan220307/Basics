{
 "cells": [
  {
   "cell_type": "code",
   "execution_count": 1,
   "metadata": {
    "colab": {
     "base_uri": "https://localhost:8080/"
    },
    "id": "DyW6yrROupGh",
    "outputId": "1435e9f0-d1bf-4657-8944-469d833cf3a4"
   },
   "outputs": [
    {
     "name": "stdout",
     "output_type": "stream",
     "text": [
      "Original array: [5, 2, 8, 1, 9, 4]\n",
      "Sorted array in decreasing order: [9, 8, 5, 4, 2, 1]\n"
     ]
    }
   ],
   "source": [
    "def sort_array_descending(arr):\n",
    "  sort_array_descending = sorted(arr, reverse=True)\n",
    "  return sort_array_descending\n",
    "\n",
    "\n",
    "my_array = [5, 2, 8, 1, 9, 4]\n",
    "sorted_array = sort_array_descending(my_array)\n",
    "print(f\"Original array: {my_array}\")\n",
    "print(f\"Sorted array in decreasing order: {sorted_array}\")"
   ]
  },
  {
   "cell_type": "code",
   "execution_count": 2,
   "metadata": {
    "colab": {
     "base_uri": "https://localhost:8080/"
    },
    "id": "Q2ENBWqJvc60",
    "outputId": "09c3e893-6f3c-491e-b724-26bcb823f698"
   },
   "outputs": [
    {
     "name": "stdout",
     "output_type": "stream",
     "text": [
      "Original array: [5, 2, 8, 1, 9, 4]\n",
      "Sorted array in ascending order: [1, 2, 4, 5, 8, 9]\n"
     ]
    }
   ],
   "source": [
    "def sort_array_ascending(arr):\n",
    "  sort_array_ascending = sorted(arr)\n",
    "  return sort_array_ascending\n",
    "\n",
    "\n",
    "my_array = [5, 2, 8, 1, 9, 4]\n",
    "sorted_array = sort_array_ascending(my_array)\n",
    "print(f\"Original array: {my_array}\")\n",
    "print(f\"Sorted array in ascending order: {sorted_array}\")"
   ]
  },
  {
   "cell_type": "code",
   "execution_count": 3,
   "metadata": {
    "colab": {
     "base_uri": "https://localhost:8080/"
    },
    "id": "6sSSiiQL0yCB",
    "outputId": "4b638c60-0e63-4e55-b032-1118635c5bee"
   },
   "outputs": [
    {
     "name": "stdout",
     "output_type": "stream",
     "text": [
      "Original array: [5, 2, 8, 1, 9, 4]\n",
      "Reversed array: [4, 9, 1, 8, 2, 5]\n"
     ]
    }
   ],
   "source": [
    "#  Write a program to reverse an array\n",
    "\n",
    "def reverse_array(arr):\n",
    "\n",
    "  return arr[::-1]\n",
    "\n",
    "my_array = [5, 2, 8, 1, 9, 4]\n",
    "reversed_array = reverse_array(my_array)\n",
    "print(f\"Original array: {my_array}\")\n",
    "print(f\"Reversed array: {reversed_array}\")"
   ]
  },
  {
   "cell_type": "code",
   "execution_count": 4,
   "metadata": {
    "colab": {
     "base_uri": "https://localhost:8080/"
    },
    "id": "RxqTlTr-2UaO",
    "outputId": "a3d253e5-b17c-42b5-d539-0b6f145c5e9a"
   },
   "outputs": [
    {
     "name": "stdout",
     "output_type": "stream",
     "text": [
      "Original array: [5, 2, 8, 1, 9, 4]\n",
      "Sum of array elements: 29\n"
     ]
    }
   ],
   "source": [
    "# Write a program to add all elements of an array\n",
    "\n",
    "def add_array_elements(arr):\n",
    "\n",
    "  sum = 0\n",
    "  for element in arr:\n",
    "    sum += element\n",
    "  return sum\n",
    "\n",
    "\n",
    "my_array = [5, 2, 8, 1, 9, 4]\n",
    "array_sum = add_array_elements(my_array)\n",
    "print(f\"Original array: {my_array}\")\n",
    "print(f\"Sum of array elements: {array_sum}\")"
   ]
  }
 ],
 "metadata": {
  "colab": {
   "provenance": []
  },
  "kernelspec": {
   "display_name": "Python 3",
   "name": "python3"
  },
  "language_info": {
   "codemirror_mode": {
    "name": "ipython",
    "version": 3
   },
   "file_extension": ".py",
   "mimetype": "text/x-python",
   "name": "python",
   "nbconvert_exporter": "python",
   "pygments_lexer": "ipython3",
   "version": "3.9.13"
  }
 },
 "nbformat": 4,
 "nbformat_minor": 0
}
