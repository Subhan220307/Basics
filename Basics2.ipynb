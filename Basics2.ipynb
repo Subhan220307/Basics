{
  "nbformat": 4,
  "nbformat_minor": 0,
  "metadata": {
    "colab": {
      "provenance": []
    },
    "kernelspec": {
      "name": "python3",
      "display_name": "Python 3"
    },
    "language_info": {
      "name": "python"
    }
  },
  "cells": [
    {
      "cell_type": "code",
      "source": [
        "# Write a program to find lowest value in an array\n",
        "\n",
        "def find_lowest_value(arr):\n",
        "\n",
        "  if not arr:\n",
        "    return None\n",
        "  lowest_value = arr[0]\n",
        "  for value in arr:\n",
        "    if value < lowest_value:\n",
        "      lowest_value = value\n",
        "  return lowest_value\n",
        "\n",
        "array = [5, 2, 8, 1, 9]\n",
        "lowest_value = find_lowest_value(array)\n",
        "print(\"Lowest value in the array:\", lowest_value)"
      ],
      "metadata": {
        "colab": {
          "base_uri": "https://localhost:8080/"
        },
        "id": "Z2WrNF2Paxeg",
        "outputId": "c7621850-63cf-40e1-d9ad-32a3d2b44e38"
      },
      "execution_count": 18,
      "outputs": [
        {
          "output_type": "stream",
          "name": "stdout",
          "text": [
            "Lowest value in the array: 1\n"
          ]
        }
      ]
    },
    {
      "cell_type": "code",
      "source": [
        "# Write a program to find out if an array is a palindrome or not\n",
        "\n",
        "def is_palindrome(arr):\n",
        "\n",
        "  return arr == arr[::-1]\n",
        "\n",
        "array = [1, 2, 3, 2, 1]\n",
        "if is_palindrome(array):\n",
        "  print(\"The array is a palindrome.\")\n",
        "else:\n",
        "  print(\"The array is not a palindrome.\")"
      ],
      "metadata": {
        "colab": {
          "base_uri": "https://localhost:8080/"
        },
        "id": "5ryQv6IXaxMt",
        "outputId": "7e1aa629-e39c-4f96-a224-75f797e5dcc6"
      },
      "execution_count": 19,
      "outputs": [
        {
          "output_type": "stream",
          "name": "stdout",
          "text": [
            "The array is a palindrome.\n"
          ]
        }
      ]
    },
    {
      "cell_type": "code",
      "source": [
        "# Write a program to swap two elements of an array at positions a and b\n",
        "\n",
        "def swap_elements(arr, a, b):\n",
        "\n",
        "  if 0 <= a < len(arr) and 0 <= b < len(arr):\n",
        "    arr[a], arr[b] = arr[b], arr[a]\n",
        "    return arr\n",
        "  else:\n",
        "    return \"Invalid indices provided.\"\n",
        "\n",
        "array = [1, 2, 3, 4, 5]\n",
        "a = 1\n",
        "b = 3\n",
        "\n",
        "new_array = swap_elements(array, a, b)\n",
        "print(\"Array after swapping elements:\", new_array)"
      ],
      "metadata": {
        "colab": {
          "base_uri": "https://localhost:8080/"
        },
        "id": "I1xrYr8xeF0j",
        "outputId": "990d777c-22e9-4d9a-e63f-59ab6cf1eed0"
      },
      "execution_count": 20,
      "outputs": [
        {
          "output_type": "stream",
          "name": "stdout",
          "text": [
            "Array after swapping elements: [1, 4, 3, 2, 5]\n"
          ]
        }
      ]
    }
  ]
}