{
  "nbformat": 4,
  "nbformat_minor": 0,
  "metadata": {
    "colab": {
      "provenance": []
    },
    "kernelspec": {
      "name": "python3",
      "display_name": "Python 3"
    },
    "language_info": {
      "name": "python"
    }
  },
  "cells": [
    {
      "cell_type": "code",
      "source": [
        "# Split a string into chunks of a specific length. E.g str = \"my name \" , split length= 2 ,\n",
        "# result will be ['my' , ' n', 'am' ,'e ']\n",
        "\n",
        "def split_string_into_chunks(text, chunk_size):\n",
        "    chunks = []\n",
        "    for i in range(0, len(text), chunk_size):\n",
        "        chunks.append(text[i:i + chunk_size])\n",
        "    return chunks\n",
        "\n",
        "str = \"my name \"\n",
        "split_length = 2\n",
        "result = split_string_into_chunks(str, split_length)\n",
        "print(result)"
      ],
      "metadata": {
        "colab": {
          "base_uri": "https://localhost:8080/"
        },
        "id": "d7U7oDnU3Cpc",
        "outputId": "18aa31c2-5f8b-461b-f32a-9e98749352aa"
      },
      "execution_count": 3,
      "outputs": [
        {
          "output_type": "stream",
          "name": "stdout",
          "text": [
            "['my', ' n', 'am', 'e ']\n"
          ]
        }
      ]
    },
    {
      "cell_type": "code",
      "source": [
        "# Check if parentheses in a string are balanced. str = {()} is balanced but { (}} is not balanced\n",
        "\n",
        "def are_parentheses_balanced(s):\n",
        "    stack = []\n",
        "    mapping = {\")\": \"(\", \"}\": \"{\", \"]\": \"[\"}\n",
        "\n",
        "    for char in s:\n",
        "        if char in mapping:\n",
        "            top_element = stack.pop() if stack else '#'\n",
        "            if mapping[char] != top_element:\n",
        "                return False\n",
        "        elif char in mapping.values():\n",
        "            stack.append(char)\n",
        "\n",
        "    return not stack\n",
        "\n",
        "string1 = \"{()}\"\n",
        "string2 = \"{ (}}\"\n",
        "string3 = \"{{[[(())]]}}\"\n",
        "string4 = \"([)]\"\n",
        "\n",
        "print(f\"'{string1}' is balanced: {are_parentheses_balanced(string1)}\")\n",
        "print(f\"'{string2}' is balanced: {are_parentheses_balanced(string2)}\")\n",
        "print(f\"'{string3}' is balanced: {are_parentheses_balanced(string3)}\")\n",
        "print(f\"'{string4}' is balanced: {are_parentheses_balanced(string4)}\")\n"
      ],
      "metadata": {
        "colab": {
          "base_uri": "https://localhost:8080/"
        },
        "id": "Y7n2wCNE3CnS",
        "outputId": "c4aed35c-2d7a-4c40-a697-c89c7c22d0a5"
      },
      "execution_count": 1,
      "outputs": [
        {
          "output_type": "stream",
          "name": "stdout",
          "text": [
            "'{()}' is balanced: True\n",
            "'{ (}}' is balanced: False\n",
            "'{{[[(())]]}}' is balanced: True\n",
            "'([)]' is balanced: False\n"
          ]
        }
      ]
    },
    {
      "cell_type": "code",
      "source": [],
      "metadata": {
        "id": "45vDed803Ckv"
      },
      "execution_count": null,
      "outputs": []
    }
  ]
}