{
 "cells": [
  {
   "cell_type": "markdown",
   "metadata": {
    "id": "kunOlGkGj6NV"
   },
   "source": [
    "**Write a function called greet that prints &quot;Hello, World!&quot;**"
   ]
  },
  {
   "cell_type": "code",
   "execution_count": 4,
   "metadata": {
    "colab": {
     "base_uri": "https://localhost:8080/"
    },
    "id": "b5z75in9jeJC",
    "outputId": "dfb901ac-1c44-486d-d990-f321b2c4fcab"
   },
   "outputs": [
    {
     "name": "stdout",
     "output_type": "stream",
     "text": [
      "Hello World\n"
     ]
    }
   ],
   "source": [
    "def myfuction():\n",
    "  print('Hello World')\n",
    "myfuction()\n"
   ]
  },
  {
   "cell_type": "markdown",
   "metadata": {
    "id": "tLgwnpl6lFIa"
   },
   "source": [
    "**Passing Arguments to Functions**"
   ]
  },
  {
   "cell_type": "code",
   "execution_count": 2,
   "metadata": {
    "colab": {
     "base_uri": "https://localhost:8080/"
    },
    "id": "TNSTK_OQkGMs",
    "outputId": "e1383d3c-dc84-40ba-c1c1-3da69cb09acc"
   },
   "outputs": [
    {
     "name": "stdout",
     "output_type": "stream",
     "text": [
      "Name: Abdur Rehman , Age: 22\n"
     ]
    }
   ],
   "source": [
    "def print_info(name, age):\n",
    "\n",
    "  print(f\"Name: {name}, Age: {age}\")\n",
    "\n",
    "\n",
    "name = input(\"Please enter your name: \")\n",
    "age = int(input(\"Please enter your age: \"))\n",
    "\n",
    "\n",
    "print_info(name, age)"
   ]
  },
  {
   "cell_type": "markdown",
   "metadata": {
    "id": "AdJACj8Wmr8u"
   },
   "source": [
    "**Return a Value from a Function**"
   ]
  },
  {
   "cell_type": "code",
   "execution_count": null,
   "metadata": {
    "colab": {
     "base_uri": "https://localhost:8080/"
    },
    "id": "tASjgal2l6rA",
    "outputId": "928b95f7-d546-4121-8c3c-0ba5d2038efa"
   },
   "outputs": [
    {
     "name": "stdout",
     "output_type": "stream",
     "text": [
      "The product of 5 and 3 is: 15\n",
      "Is 10 even? True\n",
      "Is 7 even? False\n"
     ]
    }
   ],
   "source": [
    "def multiply(num1, num2):\n",
    "  \"\"\"\n",
    "  This function takes two numbers as parameters and returns their product.\n",
    "  \"\"\"\n",
    "  return num1 * num2\n",
    "\n",
    "def is_even(number):\n",
    "  \"\"\"\n",
    "  This function takes a number as a parameter and returns True if the number is even,\n",
    "  and False if it is odd.\n",
    "  \"\"\"\n",
    "  return number % 2 == 0\n",
    "\n",
    "# Call the functions and print the results\n",
    "result_multiply = multiply(5, 3)  # Call multiply with 5 and 3\n",
    "print(f\"The product of 5 and 3 is: {result_multiply}\")\n",
    "\n",
    "result_is_even = is_even(10)  # Call is_even with 10\n",
    "print(f\"Is 10 even? {result_is_even}\")\n",
    "\n",
    "result_is_even = is_even(7)  # Call is_even with 7\n",
    "print(f\"Is 7 even? {result_is_even}\")"
   ]
  },
  {
   "cell_type": "markdown",
   "metadata": {
    "id": "2SVv25aakXrj"
   },
   "source": [
    "**Scope of Objects**"
   ]
  },
  {
   "cell_type": "code",
   "execution_count": 1,
   "metadata": {
    "colab": {
     "base_uri": "https://localhost:8080/"
    },
    "id": "-BGh1jORkahI",
    "outputId": "a9488d3f-c089-422a-f8fc-83e71292faa2"
   },
   "outputs": [
    {
     "name": "stdout",
     "output_type": "stream",
     "text": [
      "Hello from outer function!\n"
     ]
    }
   ],
   "source": [
    "def outer_function():\n",
    "  outer_var = \"Hello from outer function!\"\n",
    "\n",
    "  def inner_function():\n",
    "    print(outer_var)\n",
    "\n",
    "  inner_function()\n",
    "\n",
    "outer_function()"
   ]
  },
  {
   "cell_type": "markdown",
   "metadata": {
    "id": "s2JMTgLzkuWL"
   },
   "source": [
    "**Default Arguments**"
   ]
  },
  {
   "cell_type": "code",
   "execution_count": 2,
   "metadata": {
    "colab": {
     "base_uri": "https://localhost:8080/"
    },
    "id": "xI05BI_okzKh",
    "outputId": "870503a4-c9ff-417c-8cd6-7888e4dd4a85"
   },
   "outputs": [
    {
     "name": "stdout",
     "output_type": "stream",
     "text": [
      "Hello, Alice\n",
      "Hello, Guest\n",
      "81\n"
     ]
    },
    {
     "data": {
      "text/plain": [
       "4"
      ]
     },
     "execution_count": 2,
     "metadata": {},
     "output_type": "execute_result"
    }
   ],
   "source": [
    "\n",
    "def greet_person(name=\"Guest\"):\n",
    "  \"\"\"\n",
    "  This function takes a name as a parameter and prints \"Hello, [name]\".\n",
    "  If no name is provided, it defaults to \"Guest\".\n",
    "  \"\"\"\n",
    "  print(f\"Hello, {name}\")\n",
    "\n",
    "def power(base, exponent=2):\n",
    "  \"\"\"\n",
    "  This function takes two numbers as parameters and returns the first\n",
    "  number raised to the power of the second number. If the second number\n",
    "  is not provided, it defaults to 2.\n",
    "  \"\"\"\n",
    "  return base ** exponent\n",
    "\n",
    "\n",
    "greet_person(\"Alice\")\n",
    "greet_person()\n",
    "\n",
    "result1 = power(3, 4)\n",
    "print(result1)\n",
    "result2 = power(2)\n",
    "result2"
   ]
  },
  {
   "cell_type": "markdown",
   "metadata": {
    "id": "isnL7a3PlEm4"
   },
   "source": [
    "**Positional and Keyword Arguments**"
   ]
  },
  {
   "cell_type": "code",
   "execution_count": 6,
   "metadata": {
    "colab": {
     "base_uri": "https://localhost:8080/"
    },
    "id": "_VU_rjdJlEHJ",
    "outputId": "5d3fa5b4-8cb5-45ff-e88f-4e8a7289d525"
   },
   "outputs": [
    {
     "name": "stdout",
     "output_type": "stream",
     "text": [
      "I have a dog.\n",
      "My dog's name is Peter.\n",
      "I have a cat.\n",
      "My cat's name is Leo.\n",
      "Sandwich with turkey, lettuce, and tomato\n",
      "Sandwich with ham, cheese, and mayo\n"
     ]
    }
   ],
   "source": [
    "\n",
    "def describe_pet(pet_name, pet_type):\n",
    "    print(f\"I have a {pet_type}.\")\n",
    "    print(f\"My {pet_type}'s name is {pet_name}.\")\n",
    "\n",
    "describe_pet(\"Peter\", \"dog\")\n",
    "describe_pet(pet_type=\"cat\", pet_name=\"Leo\")\n",
    "\n",
    "\n",
    "def make_sandwich(ingredient1, ingredient2, ingredient3):\n",
    "    print(f\"Sandwich with {ingredient1}, {ingredient2}, and {ingredient3}\")\n",
    "\n",
    "make_sandwich(\"turkey\", \"lettuce\", \"tomato\")\n",
    "make_sandwich(ingredient3=\"mayo\", ingredient1=\"ham\", ingredient2=\"cheese\")"
   ]
  }
 ],
 "metadata": {
  "colab": {
   "provenance": []
  },
  "kernelspec": {
   "display_name": "Python 3",
   "name": "python3"
  },
  "language_info": {
   "codemirror_mode": {
    "name": "ipython",
    "version": 3
   },
   "file_extension": ".py",
   "mimetype": "text/x-python",
   "name": "python",
   "nbconvert_exporter": "python",
   "pygments_lexer": "ipython3",
   "version": "3.9.13"
  }
 },
 "nbformat": 4,
 "nbformat_minor": 0
}
